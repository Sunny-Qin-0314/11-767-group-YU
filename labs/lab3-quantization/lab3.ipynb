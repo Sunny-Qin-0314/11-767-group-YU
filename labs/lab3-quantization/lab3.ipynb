{
  "nbformat": 4,
  "nbformat_minor": 0,
  "metadata": {
    "colab": {
      "name": "lab3.ipynb",
      "provenance": []
    },
    "kernelspec": {
      "name": "python3",
      "display_name": "Python 3"
    },
    "language_info": {
      "name": "python"
    }
  },
  "cells": [
    {
      "cell_type": "code",
      "metadata": {
        "colab": {
          "base_uri": "https://localhost:8080/"
        },
        "id": "RURqQ2pgcEZT",
        "outputId": "ebf809f2-802f-4514-beba-68b4b2d11499"
      },
      "source": [
        "import torchvision.models as models\n",
        "import torch\n",
        "from torchvision import transforms\n",
        "from PIL import Image\n",
        "import matplotlib.pyplot as plt\n",
        "from timeit import default_timer as timer\n",
        "import numpy as np\n",
        "\n",
        "#model = models.quantization.mobilenet_v2(pretrained=True, quantize=True)\n",
        "model = models.resnet18(pretrained=True)\n",
        "#model = models.mobilenet_v3_small(pretrained=True)\n",
        "#model = models.squeezenet1_1(pretrained=True)\n",
        "\n",
        "#model = models.quantization.mobilenet_v3_large(pretrained=True, quantize=False)\n",
        "model.eval()\n",
        "\n",
        "quantized_model = torch.quantization.quantize_dynamic(model, {torch.nn.Linear}, dtype=torch.qint8)\n",
        "quantized_model.eval()"
      ],
      "execution_count": 38,
      "outputs": [
        {
          "output_type": "execute_result",
          "data": {
            "text/plain": [
              "ResNet(\n",
              "  (conv1): Conv2d(3, 64, kernel_size=(7, 7), stride=(2, 2), padding=(3, 3), bias=False)\n",
              "  (bn1): BatchNorm2d(64, eps=1e-05, momentum=0.1, affine=True, track_running_stats=True)\n",
              "  (relu): ReLU(inplace=True)\n",
              "  (maxpool): MaxPool2d(kernel_size=3, stride=2, padding=1, dilation=1, ceil_mode=False)\n",
              "  (layer1): Sequential(\n",
              "    (0): BasicBlock(\n",
              "      (conv1): Conv2d(64, 64, kernel_size=(3, 3), stride=(1, 1), padding=(1, 1), bias=False)\n",
              "      (bn1): BatchNorm2d(64, eps=1e-05, momentum=0.1, affine=True, track_running_stats=True)\n",
              "      (relu): ReLU(inplace=True)\n",
              "      (conv2): Conv2d(64, 64, kernel_size=(3, 3), stride=(1, 1), padding=(1, 1), bias=False)\n",
              "      (bn2): BatchNorm2d(64, eps=1e-05, momentum=0.1, affine=True, track_running_stats=True)\n",
              "    )\n",
              "    (1): BasicBlock(\n",
              "      (conv1): Conv2d(64, 64, kernel_size=(3, 3), stride=(1, 1), padding=(1, 1), bias=False)\n",
              "      (bn1): BatchNorm2d(64, eps=1e-05, momentum=0.1, affine=True, track_running_stats=True)\n",
              "      (relu): ReLU(inplace=True)\n",
              "      (conv2): Conv2d(64, 64, kernel_size=(3, 3), stride=(1, 1), padding=(1, 1), bias=False)\n",
              "      (bn2): BatchNorm2d(64, eps=1e-05, momentum=0.1, affine=True, track_running_stats=True)\n",
              "    )\n",
              "  )\n",
              "  (layer2): Sequential(\n",
              "    (0): BasicBlock(\n",
              "      (conv1): Conv2d(64, 128, kernel_size=(3, 3), stride=(2, 2), padding=(1, 1), bias=False)\n",
              "      (bn1): BatchNorm2d(128, eps=1e-05, momentum=0.1, affine=True, track_running_stats=True)\n",
              "      (relu): ReLU(inplace=True)\n",
              "      (conv2): Conv2d(128, 128, kernel_size=(3, 3), stride=(1, 1), padding=(1, 1), bias=False)\n",
              "      (bn2): BatchNorm2d(128, eps=1e-05, momentum=0.1, affine=True, track_running_stats=True)\n",
              "      (downsample): Sequential(\n",
              "        (0): Conv2d(64, 128, kernel_size=(1, 1), stride=(2, 2), bias=False)\n",
              "        (1): BatchNorm2d(128, eps=1e-05, momentum=0.1, affine=True, track_running_stats=True)\n",
              "      )\n",
              "    )\n",
              "    (1): BasicBlock(\n",
              "      (conv1): Conv2d(128, 128, kernel_size=(3, 3), stride=(1, 1), padding=(1, 1), bias=False)\n",
              "      (bn1): BatchNorm2d(128, eps=1e-05, momentum=0.1, affine=True, track_running_stats=True)\n",
              "      (relu): ReLU(inplace=True)\n",
              "      (conv2): Conv2d(128, 128, kernel_size=(3, 3), stride=(1, 1), padding=(1, 1), bias=False)\n",
              "      (bn2): BatchNorm2d(128, eps=1e-05, momentum=0.1, affine=True, track_running_stats=True)\n",
              "    )\n",
              "  )\n",
              "  (layer3): Sequential(\n",
              "    (0): BasicBlock(\n",
              "      (conv1): Conv2d(128, 256, kernel_size=(3, 3), stride=(2, 2), padding=(1, 1), bias=False)\n",
              "      (bn1): BatchNorm2d(256, eps=1e-05, momentum=0.1, affine=True, track_running_stats=True)\n",
              "      (relu): ReLU(inplace=True)\n",
              "      (conv2): Conv2d(256, 256, kernel_size=(3, 3), stride=(1, 1), padding=(1, 1), bias=False)\n",
              "      (bn2): BatchNorm2d(256, eps=1e-05, momentum=0.1, affine=True, track_running_stats=True)\n",
              "      (downsample): Sequential(\n",
              "        (0): Conv2d(128, 256, kernel_size=(1, 1), stride=(2, 2), bias=False)\n",
              "        (1): BatchNorm2d(256, eps=1e-05, momentum=0.1, affine=True, track_running_stats=True)\n",
              "      )\n",
              "    )\n",
              "    (1): BasicBlock(\n",
              "      (conv1): Conv2d(256, 256, kernel_size=(3, 3), stride=(1, 1), padding=(1, 1), bias=False)\n",
              "      (bn1): BatchNorm2d(256, eps=1e-05, momentum=0.1, affine=True, track_running_stats=True)\n",
              "      (relu): ReLU(inplace=True)\n",
              "      (conv2): Conv2d(256, 256, kernel_size=(3, 3), stride=(1, 1), padding=(1, 1), bias=False)\n",
              "      (bn2): BatchNorm2d(256, eps=1e-05, momentum=0.1, affine=True, track_running_stats=True)\n",
              "    )\n",
              "  )\n",
              "  (layer4): Sequential(\n",
              "    (0): BasicBlock(\n",
              "      (conv1): Conv2d(256, 512, kernel_size=(3, 3), stride=(2, 2), padding=(1, 1), bias=False)\n",
              "      (bn1): BatchNorm2d(512, eps=1e-05, momentum=0.1, affine=True, track_running_stats=True)\n",
              "      (relu): ReLU(inplace=True)\n",
              "      (conv2): Conv2d(512, 512, kernel_size=(3, 3), stride=(1, 1), padding=(1, 1), bias=False)\n",
              "      (bn2): BatchNorm2d(512, eps=1e-05, momentum=0.1, affine=True, track_running_stats=True)\n",
              "      (downsample): Sequential(\n",
              "        (0): Conv2d(256, 512, kernel_size=(1, 1), stride=(2, 2), bias=False)\n",
              "        (1): BatchNorm2d(512, eps=1e-05, momentum=0.1, affine=True, track_running_stats=True)\n",
              "      )\n",
              "    )\n",
              "    (1): BasicBlock(\n",
              "      (conv1): Conv2d(512, 512, kernel_size=(3, 3), stride=(1, 1), padding=(1, 1), bias=False)\n",
              "      (bn1): BatchNorm2d(512, eps=1e-05, momentum=0.1, affine=True, track_running_stats=True)\n",
              "      (relu): ReLU(inplace=True)\n",
              "      (conv2): Conv2d(512, 512, kernel_size=(3, 3), stride=(1, 1), padding=(1, 1), bias=False)\n",
              "      (bn2): BatchNorm2d(512, eps=1e-05, momentum=0.1, affine=True, track_running_stats=True)\n",
              "    )\n",
              "  )\n",
              "  (avgpool): AdaptiveAvgPool2d(output_size=(1, 1))\n",
              "  (fc): DynamicQuantizedLinear(in_features=512, out_features=1000, dtype=torch.qint8, qscheme=torch.per_tensor_affine)\n",
              ")"
            ]
          },
          "metadata": {},
          "execution_count": 38
        }
      ]
    },
    {
      "cell_type": "code",
      "metadata": {
        "colab": {
          "base_uri": "https://localhost:8080/"
        },
        "id": "w8dLSF3zdg05",
        "outputId": "81523078-bcd1-47e2-b405-2f09008f0ff3"
      },
      "source": [
        "import os\n",
        "\n",
        "def print_size_of_model(model):\n",
        "    torch.save(model.state_dict(), \"temp.p\")\n",
        "    print('Size (MB):', os.path.getsize(\"temp.p\")/1e6)\n",
        "    os.remove('temp.p')\n",
        "\n",
        "print_size_of_model(model)\n",
        "print_size_of_model(quantized_model)"
      ],
      "execution_count": 39,
      "outputs": [
        {
          "output_type": "stream",
          "name": "stdout",
          "text": [
            "Size (MB): 46.834317\n",
            "Size (MB): 45.299081\n"
          ]
        }
      ]
    },
    {
      "cell_type": "code",
      "metadata": {
        "colab": {
          "base_uri": "https://localhost:8080/"
        },
        "id": "JCN8eqplh2VR",
        "outputId": "67d9be6f-9575-4b55-95c4-b42041b94d95"
      },
      "source": [
        "labels = [line.strip() for line in open(\"imagenet_labels.txt\")]\n",
        "transform = transforms.Compose([transforms.Resize(255),\n",
        "                              transforms.CenterCrop(224),\n",
        "                               transforms.ToTensor()])\n",
        "\n",
        "normalize = transforms.Normalize(mean=[0.485, 0.456, 0.406],\n",
        "                               std=[0.229, 0.224, 0.225])\n",
        "\n",
        "image = Image.open(\"image.jpg\").convert('RGB')\n",
        "image = transform(image)\n",
        "image = normalize(image)\n",
        "image = image.unsqueeze(0)\n",
        "\n",
        "\n",
        "out = model(image)\n",
        "label = labels[torch.argmax(out[0]).item()]\n",
        "print(f\"Found a {label}\")\n"
      ],
      "execution_count": 19,
      "outputs": [
        {
          "output_type": "stream",
          "name": "stdout",
          "text": [
            "Found a 'bluetick'\n"
          ]
        }
      ]
    },
    {
      "cell_type": "code",
      "metadata": {
        "colab": {
          "base_uri": "https://localhost:8080/",
          "height": 1000
        },
        "id": "DHSiZc99cRWj",
        "outputId": "ecdd42ed-badf-48b9-9302-0a3e9400f928"
      },
      "source": [
        "# Count Latency with different batch size:\n",
        "input_size = 224\n",
        "batch_size = [1, 2, 4, 8]\n",
        "#batch_size = [1]\n",
        "latency_batch = []\n",
        "\n",
        "for batch_s in batch_size:\n",
        "    input_data = torch.rand(batch_s, 3, input_size, input_size)\n",
        "    latencies =[]\n",
        "    print(\"batch size = \", batch_s)\n",
        "    \n",
        "    with torch.no_grad():\n",
        "        for i in range(11):\n",
        "            start = timer()\n",
        "            output = quantized_model(input_data)\n",
        "            end = timer()\n",
        "\n",
        "            if (i > 0):\n",
        "                latencies.append(end - start)\n",
        "                print(\"iter {}, time = \".format(i-1), latencies[-1])\n",
        "    latency_batch.append(np.mean(latencies))\n",
        "    print(\"mean latency = {:.4f}\".format(np.mean(latencies)))\n",
        "    print(\"std latency = {:.4f}\".format(np.std(latencies)))\n",
        "\n",
        "plt.plot(batch_size, latency_batch, 'o')\n",
        "plt.xlabel('Batch size')\n",
        "plt.ylabel('Latency (in second)')\n",
        "plt.ylim(0, np.max(latency_batch))\n",
        "plt.savefig(\"resnet_batch_latency.png\")"
      ],
      "execution_count": 40,
      "outputs": [
        {
          "output_type": "stream",
          "name": "stdout",
          "text": [
            "batch size =  1\n",
            "iter 0, time =  0.09766390400000091\n",
            "iter 1, time =  0.1076030039998841\n",
            "iter 2, time =  0.0986823939997521\n",
            "iter 3, time =  0.1008069780000369\n",
            "iter 4, time =  0.09900474000005488\n",
            "iter 5, time =  0.10111501700021108\n",
            "iter 6, time =  0.09798227600003884\n",
            "iter 7, time =  0.09362571799965735\n",
            "iter 8, time =  0.10169271799986745\n",
            "iter 9, time =  0.10577429699969798\n",
            "mean latency = 0.1004\n",
            "std latency = 0.0038\n",
            "batch size =  2\n",
            "iter 0, time =  0.19334257299988167\n",
            "iter 1, time =  0.17124579000028461\n",
            "iter 2, time =  0.18335329499996078\n",
            "iter 3, time =  0.1707073330003368\n",
            "iter 4, time =  0.1816213609999977\n",
            "iter 5, time =  0.16769423699997787\n",
            "iter 6, time =  0.1743207579997943\n",
            "iter 7, time =  0.17647176099990247\n",
            "iter 8, time =  0.17554722399972889\n",
            "iter 9, time =  0.1693205990000024\n",
            "mean latency = 0.1764\n",
            "std latency = 0.0074\n",
            "batch size =  4\n",
            "iter 0, time =  0.3181439630002387\n",
            "iter 1, time =  0.3242606329999944\n",
            "iter 2, time =  0.3452618530000109\n",
            "iter 3, time =  0.3263872789998459\n",
            "iter 4, time =  0.33053678399983255\n",
            "iter 5, time =  0.34681872000010117\n",
            "iter 6, time =  0.32680982699957895\n",
            "iter 7, time =  0.33581874199990125\n",
            "iter 8, time =  0.33990836800012403\n",
            "iter 9, time =  0.32926701099995626\n",
            "mean latency = 0.3323\n",
            "std latency = 0.0089\n",
            "batch size =  8\n",
            "iter 0, time =  0.6221459459998187\n",
            "iter 1, time =  0.6348675750000439\n",
            "iter 2, time =  0.6378783430000112\n",
            "iter 3, time =  0.6298301329998139\n",
            "iter 4, time =  0.6478477790001307\n",
            "iter 5, time =  0.6328029400001469\n",
            "iter 6, time =  0.6460998180000388\n",
            "iter 7, time =  0.6465968140000768\n",
            "iter 8, time =  0.6349278179995963\n",
            "iter 9, time =  0.6349172409995845\n",
            "mean latency = 0.6368\n",
            "std latency = 0.0077\n"
          ]
        },
        {
          "output_type": "display_data",
          "data": {
            "image/png": "[encoded data removed]",
            "text/plain": [
              "<Figure size 432x288 with 1 Axes>"
            ]
          },
          "metadata": {
            "needs_background": "light"
          }
        }
      ]
    }
  ]
}